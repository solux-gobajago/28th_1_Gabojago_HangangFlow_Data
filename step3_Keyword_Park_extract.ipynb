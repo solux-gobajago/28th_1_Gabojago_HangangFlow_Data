{
 "cells": [
  {
   "cell_type": "code",
   "execution_count": 10,
   "id": "01704378",
   "metadata": {},
   "outputs": [
    {
     "name": "stdout",
     "output_type": "stream",
     "text": [
      "Unnamed: 0         강서       광나루        난지        뚝섬        망원        반포  \\\n",
      "운동           0.577350  0.799638  0.710246  0.643087  0.782227  0.377919   \n",
      "산책           0.707107  0.629258  0.583114  0.594053  0.782998  0.707107   \n",
      "자전거          0.645327  0.617321  0.644023  0.689327  0.708015  0.318826   \n",
      "라이딩          0.707107  0.805998  0.809449  0.894427  0.734732  0.355731   \n",
      "야구장          0.000000  0.149356  0.591711  0.000000  0.000000  0.000000   \n",
      "수영장          0.000000  0.000000  0.000000  0.000000  0.000000  0.000000   \n",
      "드론           0.000000  0.665469  0.000000  0.510731  0.000000  0.000000   \n",
      "페스티벌         0.000000  0.000000  0.651857  0.389471  0.000000  0.471925   \n",
      "콘서트          0.000000  0.000000  0.784469  0.000000  0.000000  0.000000   \n",
      "불꽃놀이         0.000000  0.000000  0.000000  0.332442  0.000000  0.000000   \n",
      "야경           0.000000  0.731146  0.717220  0.707107  0.797205  0.496152   \n",
      "주차장          0.568573  0.694248  0.415807  0.519082  0.708281  0.398339   \n",
      "화장실          0.393300  0.785806  0.425282  0.261262  0.693156  0.364299   \n",
      "대중교통         0.000000  0.370592  0.720338  0.272832  0.577498  0.157874   \n",
      "편의점          0.442189  0.426229  0.728623  0.398664  0.506762  0.381345   \n",
      "데이트          0.000000  0.836208  0.663465  0.286317  0.821595  0.405465   \n",
      "피크닉          0.000000  0.580016  0.776443  0.503901  0.740888  0.251489   \n",
      "돗자리          0.000000  0.322821  0.612202  0.360010  0.508039  0.335440   \n",
      "나들이          0.488372  0.799638  0.765336  0.472492  0.550412  0.357379   \n",
      "휴식           0.552086  0.399260  0.730003  0.425251  0.677208  0.453721   \n",
      "깨끗           0.562019  0.617321  0.707107  0.312061  0.745335  0.352047   \n",
      "자연           0.593557  0.657211  0.718712  0.336301  0.674487  0.000000   \n",
      "습지           0.430911  0.000000  0.515836  0.000000  0.526208  0.000000   \n",
      "치킨           0.000000  0.000000  0.000000  0.622049  0.671474  0.421305   \n",
      "카페           0.000000  0.000000  0.000000  0.256063  0.553320  0.469581   \n",
      "라면           0.000000  0.000000  0.000000  0.286317  0.709480  0.310439   \n",
      "Unnamed: 27       NaN       NaN       NaN       NaN       NaN       NaN   \n",
      "\n",
      "Unnamed: 0         양화       여의도        이촌        잠실        잠원  \n",
      "운동           0.933571  0.740376  0.677114  0.728182  0.641027  \n",
      "산책           0.867095  0.621859  0.813676  0.727261  0.799039  \n",
      "자전거          0.814442  0.501740  0.673334  0.666235  0.663785  \n",
      "라이딩          0.648061  0.379866  0.820201  0.679579  0.629296  \n",
      "야구장          0.000000  0.000000  0.000000  0.000000  0.000000  \n",
      "수영장          0.000000  0.000000  0.000000  0.525530  0.739717  \n",
      "드론           0.000000  0.000000  0.000000  0.000000  0.000000  \n",
      "페스티벌         0.424319  0.599591  0.527084  0.000000  0.316773  \n",
      "콘서트          0.000000  0.000000  0.000000  0.000000  0.000000  \n",
      "불꽃놀이         0.499271  0.651263  0.549606  0.573476  0.812602  \n",
      "야경           0.843936  0.698508  0.648492  0.749776  0.606929  \n",
      "주차장          0.664884  0.843312  0.344365  0.803615  0.746295  \n",
      "화장실          0.683505  0.392911  0.251603  0.529159  0.628101  \n",
      "대중교통         0.428441  0.400572  0.344872  0.490030  0.852233  \n",
      "편의점          0.613024  0.417737  0.385713  0.433688  0.547840  \n",
      "데이트          0.698115  0.609653  0.707107  0.531502  0.795155  \n",
      "피크닉          0.717665  0.630203  0.692301  0.712027  0.588442  \n",
      "돗자리          0.473968  0.329233  0.359436  0.456048  0.590520  \n",
      "나들이          0.740462  0.659652  0.635207  0.768881  0.767914  \n",
      "휴식           0.740462  0.707107  0.623429  0.694328  0.775550  \n",
      "깨끗           0.738800  0.459643  0.482622  0.665728  0.716373  \n",
      "자연           0.463844  0.518045  0.678062  0.000000  0.533691  \n",
      "습지           0.707107  0.000000  0.000000  0.000000  0.000000  \n",
      "치킨           0.680618  0.387129  0.799443  0.669442  0.466602  \n",
      "카페           0.823926  0.000000  0.458362  0.519487  0.591567  \n",
      "라면           0.732273  0.520988  0.707107  0.628423  0.645653  \n",
      "Unnamed: 27       NaN       NaN       NaN       NaN       NaN  \n"
     ]
    }
   ],
   "source": [
    "import pandas as pd\n",
    "\n",
    "# 'utf-8' 인코딩 방식으로 데이터프레임 읽기\n",
    "df = pd.read_csv('keyword.csv', encoding='utf-8')\n",
    "\n",
    "# 'Unnamed: 0' 열을 인덱스로 설정\n",
    "df.set_index('Unnamed: 0', inplace=True)\n",
    "\n",
    "# 행과 열을 바꾸기\n",
    "df_transposed = df.T\n",
    "\n",
    "# 변형된 데이터프레임 출력\n",
    "print(df_transposed)\n",
    "\n",
    "# 변형된 데이터프레임을 새로운 CSV 파일로 저장\n",
    "df_transposed.to_csv('Transposed_keyword.csv', encoding='utf-8')"
   ]
  },
  {
   "cell_type": "code",
   "execution_count": 11,
   "id": "56c54f9a",
   "metadata": {},
   "outputs": [
    {
     "name": "stdout",
     "output_type": "stream",
     "text": [
      "['양화', '이촌', '망원']\n"
     ]
    }
   ],
   "source": [
    "# 'utf-8' 인코딩 방식으로 데이터프레임 읽기\n",
    "df = pd.read_csv('keyword.csv', encoding='utf-8')\n",
    "\n",
    "# 'Unnamed: 0' 열을 인덱스로 설정\n",
    "df.set_index('Unnamed: 0', inplace=True)\n",
    "\n",
    "# 선택한 키워드들을 입력\n",
    "selected_attributes = ['운동', '산책', '라이딩']\n",
    "\n",
    "# 선택한 속성들의 수치 합을 계산\n",
    "df['합계'] = df[selected_attributes].sum(axis=1)\n",
    "\n",
    "# 수치 합을 기준으로 데이터프레임을 내림차순으로 정렬\n",
    "sorted_df = df.sort_values(by='합계', ascending=False)\n",
    "\n",
    "# 상위 3개의 공원을 출력\n",
    "top_3_parks = sorted_df.head(3).index.tolist()\n",
    "\n",
    "# 결과 출력\n",
    "print(top_3_parks)"
   ]
  },
  {
   "cell_type": "code",
   "execution_count": 12,
   "id": "0d52628c",
   "metadata": {},
   "outputs": [
    {
     "name": "stdout",
     "output_type": "stream",
     "text": [
      "[{\"0\":\"\\uc591\\ud654\"},{\"0\":\"\\uc774\\ucd0c\"},{\"0\":\"\\ub9dd\\uc6d0\"}]\n"
     ]
    }
   ],
   "source": [
    "import pandas as pd\n",
    "\n",
    "# 예제용 DataFrame 생성\n",
    "data = top_3_parks\n",
    "df = pd.DataFrame(data)\n",
    "\n",
    "# DataFrame을 JSON 형식으로 변환\n",
    "json_data = df.to_json(orient='records')\n",
    "print(json_data)"
   ]
  },
  {
   "cell_type": "code",
   "execution_count": 13,
   "id": "a8f1924f",
   "metadata": {},
   "outputs": [
    {
     "name": "stdout",
     "output_type": "stream",
     "text": [
      "Requirement already satisfied: flask in c:\\users\\user\\anaconda3\\lib\\site-packages (2.2.2)\n",
      "Requirement already satisfied: Werkzeug>=2.2.2 in c:\\users\\user\\anaconda3\\lib\\site-packages (from flask) (2.2.3)\n",
      "Requirement already satisfied: Jinja2>=3.0 in c:\\users\\user\\anaconda3\\lib\\site-packages (from flask) (3.1.2)\n",
      "Requirement already satisfied: itsdangerous>=2.0 in c:\\users\\user\\anaconda3\\lib\\site-packages (from flask) (2.0.1)\n",
      "Requirement already satisfied: click>=8.0 in c:\\users\\user\\anaconda3\\lib\\site-packages (from flask) (8.0.4)\n",
      "Requirement already satisfied: importlib-metadata>=3.6.0 in c:\\users\\user\\anaconda3\\lib\\site-packages (from flask) (6.0.0)\n",
      "Requirement already satisfied: colorama in c:\\users\\user\\anaconda3\\lib\\site-packages (from click>=8.0->flask) (0.4.6)\n",
      "Requirement already satisfied: zipp>=0.5 in c:\\users\\user\\anaconda3\\lib\\site-packages (from importlib-metadata>=3.6.0->flask) (3.11.0)\n",
      "Requirement already satisfied: MarkupSafe>=2.0 in c:\\users\\user\\anaconda3\\lib\\site-packages (from Jinja2>=3.0->flask) (2.1.1)\n"
     ]
    }
   ],
   "source": [
    "!pip install flask"
   ]
  },
  {
   "cell_type": "code",
   "execution_count": null,
   "id": "01f0ac8a",
   "metadata": {},
   "outputs": [
    {
     "name": "stdout",
     "output_type": "stream",
     "text": [
      " * Serving Flask app '__main__'\n",
      " * Debug mode: off\n"
     ]
    },
    {
     "name": "stderr",
     "output_type": "stream",
     "text": [
      "WARNING: This is a development server. Do not use it in a production deployment. Use a production WSGI server instead.\n",
      " * Running on all addresses (0.0.0.0)\n",
      " * Running on http://127.0.0.1:8080\n",
      " * Running on http://10.101.20.28:8080\n",
      "Press CTRL+C to quit\n"
     ]
    }
   ],
   "source": [
    "from flask import Flask, jsonify\n",
    "\n",
    "app = Flask(__name__)\n",
    "\n",
    "@app.route('/ping', methods=['GET'])\n",
    "def ping():\n",
    "    return 'Pong'\n",
    "\n",
    "@app.route('/data', methods=['GET'])\n",
    "def get_data():\n",
    "    # JSON 데이터 반환\n",
    "    return jsonify(json_data)\n",
    "\n",
    "if __name__ == '__main__':\n",
    "    app.run(host='0.0.0.0', port=8080)  # 원하는 포트로 변경 가능"
   ]
  },
  {
   "cell_type": "code",
   "execution_count": null,
   "id": "200015ee",
   "metadata": {},
   "outputs": [],
   "source": []
  }
 ],
 "metadata": {
  "kernelspec": {
   "display_name": "Python 3 (ipykernel)",
   "language": "python",
   "name": "python3"
  },
  "language_info": {
   "codemirror_mode": {
    "name": "ipython",
    "version": 3
   },
   "file_extension": ".py",
   "mimetype": "text/x-python",
   "name": "python",
   "nbconvert_exporter": "python",
   "pygments_lexer": "ipython3",
   "version": "3.8.0"
  }
 },
 "nbformat": 4,
 "nbformat_minor": 5
}
